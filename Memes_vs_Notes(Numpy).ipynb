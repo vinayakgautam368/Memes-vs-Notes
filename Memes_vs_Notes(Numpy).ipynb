{
  "nbformat": 4,
  "nbformat_minor": 0,
  "metadata": {
    "colab": {
      "name": "Memes vs Notes(Numpy).ipynb",
      "provenance": [],
      "collapsed_sections": [],
      "mount_file_id": "10NI8vp4Hyile_5trEg9NVXRSVnQ64CFd",
      "authorship_tag": "ABX9TyMQHj8tL78ET9OAnarXVNUj",
      "include_colab_link": true
    },
    "kernelspec": {
      "name": "python3",
      "display_name": "Python 3"
    }
  },
  "cells": [
    {
      "cell_type": "markdown",
      "metadata": {
        "id": "view-in-github",
        "colab_type": "text"
      },
      "source": [
        "<a href=\"https://colab.research.google.com/github/vinayakgautam368/Memes-vs-Notes/blob/master/Memes_vs_Notes(Numpy).ipynb\" target=\"_parent\"><img src=\"https://colab.research.google.com/assets/colab-badge.svg\" alt=\"Open In Colab\"/></a>"
      ]
    },
    {
      "cell_type": "code",
      "metadata": {
        "id": "9TqvGskjrFsE",
        "colab_type": "code",
        "colab": {}
      },
      "source": [
        "import os\n",
        "import cv2\n",
        "import sklearn\n",
        "import random\n",
        "import numpy as np\n",
        "import matplotlib.pyplot as plt\n",
        "from sklearn.model_selection import train_test_split"
      ],
      "execution_count": null,
      "outputs": []
    },
    {
      "cell_type": "code",
      "metadata": {
        "id": "kZbNgTfxrM80",
        "colab_type": "code",
        "colab": {}
      },
      "source": [
        "directory=\"drive/My Drive/memesnotes/Stage_2\"\n",
        "CATEGORIES=[\"Memes\",\"Notes\"]\n",
        "data=[]\n",
        "size=64\n",
        "for category in CATEGORIES:\n",
        "  path=os.path.join(directory,category)\n",
        "  \n",
        "  label=CATEGORIES.index(category)\n",
        "  for img in os.listdir(path):\n",
        "    \n",
        "    try:\n",
        "      img_arr=cv2.imread(os.path.join(path,img))\n",
        "      img_arr=cv2.resize(img_arr,(size,size))\n",
        "      data.append([img_arr,label])\n",
        "    except Exception as e:\n",
        "      pass\n",
        "\n",
        "\n",
        "\n",
        "\n",
        "    "
      ],
      "execution_count": null,
      "outputs": []
    },
    {
      "cell_type": "code",
      "metadata": {
        "id": "nHmyfSUVt4Ti",
        "colab_type": "code",
        "colab": {
          "base_uri": "https://localhost:8080/",
          "height": 267
        },
        "outputId": "ebe83f3f-bcb7-4ec7-a9d9-d65c874312d3"
      },
      "source": [
        "random.shuffle(data)\n",
        "X = []\n",
        "Y = []\n",
        "for features, labels in data:\n",
        "    X.append(features)\n",
        "    Y.append(labels)\n",
        "X = np.array(X)\n",
        "Y = np.array(Y)\n",
        "\n",
        "\n",
        "\n",
        "plt.imshow(data[0][0])\n",
        "plt.show()"
      ],
      "execution_count": null,
      "outputs": [
        {
          "output_type": "display_data",
          "data": {
            "image/png": "[encoded data removed]",
            "text/plain": [
              "<Figure size 432x288 with 1 Axes>"
            ]
          },
          "metadata": {
            "tags": [],
            "needs_background": "light"
          }
        }
      ]
    },
    {
      "cell_type": "code",
      "metadata": {
        "id": "SL0yHHw1uCfx",
        "colab_type": "code",
        "colab": {
          "base_uri": "https://localhost:8080/",
          "height": 141
        },
        "outputId": "bccd3b17-ce53-48f4-ff98-237b4ae96ad0"
      },
      "source": [
        "print(X.shape, Y.shape)\n",
        "\n",
        "X_tra, X_te, Y_tra, Y_te = train_test_split(X, Y, test_size=0.22)\n",
        "X_tra,X_val,Y_tra,Y_val=train_test_split(X_tra,Y_tra,test_size=0.08)\n",
        "# print(X_tra.shape, Y_tra.shape, X_te.shape, Y_te.shape)\n",
        "\n",
        "X_train = X_tra.reshape(X_tra.shape[0], -1).T\n",
        "X_test = X_te.reshape(X_te.shape[0], -1).T\n",
        "Y_train = Y_tra.reshape((1, Y_tra.shape[0]))\n",
        "Y_test = Y_te.reshape((1, Y_te.shape[0]))\n",
        "X_Val=X_val.reshape(X_val.shape[0],-1).T\n",
        "Y_Val=Y_val.reshape((1,Y_val.shape[0]))\n",
        "\n",
        "X_train = X_train / 255\n",
        "X_test = X_test / 255\n",
        "X_Val=X_Val/255\n",
        "\n",
        "print(\"shape of X_train:\", X_train.shape)\n",
        "print(\"shape of Y_train:\", Y_train.shape)\n",
        "print(\"shape of X_test:\", X_test.shape)\n",
        "print(\"shape of Y_test\", Y_test.shape)\n",
        "print(\"shape of X_Val\",X_Val.shape)\n",
        "print(\"shape of Y_Val\",Y_Val.shape)\n"
      ],
      "execution_count": null,
      "outputs": [
        {
          "output_type": "stream",
          "text": [
            "(1600, 64, 64, 3) (1600,)\n",
            "shape of X_train: (12288, 1148)\n",
            "shape of Y_train: (1, 1148)\n",
            "shape of X_test: (12288, 352)\n",
            "shape of Y_test (1, 352)\n",
            "shape of X_Val (12288, 100)\n",
            "shape of Y_Val (1, 100)\n"
          ],
          "name": "stdout"
        }
      ]
    },
    {
      "cell_type": "code",
      "metadata": {
        "id": "VkLB0WOMzrKS",
        "colab_type": "code",
        "colab": {}
      },
      "source": [
        "\n",
        "def initialize(layer):\n",
        "    np.random.seed(3)\n",
        "    parameters = {}\n",
        "    L = len(layer)\n",
        "\n",
        "    for l in range(1, L):\n",
        "        parameters['W' + str(l)] = np.random.randn(layer[l], layer[l - 1]) / np.sqrt(layer[l - 1]) # He initialization of parameters\n",
        "        parameters['b' + str(l)] = np.zeros((layer[l], 1))\n",
        "\n",
        "    return parameters\n"
      ],
      "execution_count": null,
      "outputs": []
    },
    {
      "cell_type": "code",
      "metadata": {
        "id": "_p4yBGfjzyR-",
        "colab_type": "code",
        "colab": {}
      },
      "source": [
        "def sigmoid(Z):\n",
        "    A = 1 / (1 + np.exp(-Z))\n",
        "    cache = Z\n",
        "    return A, cache\n",
        "\n",
        "\n",
        "\n",
        "def relu(Z):\n",
        "    A = np.maximum(0, Z)\n",
        "    cache = Z\n",
        "    return A, cache\n",
        "\n",
        "\n",
        "def sigmoid_backward(dA, cache):\n",
        "    Z = cache\n",
        "    s = 1 / (1 + np.exp(-Z))\n",
        "    dZ = dA * s * (1 - s)\n",
        "    return dZ\n",
        "\n",
        "\n",
        "def relu_backward(dA, cache):\n",
        "    Z = cache\n",
        "    dZ = np.array(dA, copy=True)\n",
        "    dZ[Z <= 0] = 0\n",
        "    return dZ\n",
        "\n"
      ],
      "execution_count": null,
      "outputs": []
    },
    {
      "cell_type": "code",
      "metadata": {
        "id": "RIeb5Wp7z38V",
        "colab_type": "code",
        "colab": {}
      },
      "source": [
        "# forward propagation\n",
        "def linear_forward(A, W, b):\n",
        "    Z = np.dot(W, A) + b\n",
        "    assert (Z.shape == (W.shape[0], A.shape[1]))\n",
        "    cache = (A, W, b)\n",
        "\n",
        "    return Z, cache\n"
      ],
      "execution_count": null,
      "outputs": []
    },
    {
      "cell_type": "code",
      "metadata": {
        "id": "yGQJYRgV0Dfv",
        "colab_type": "code",
        "colab": {}
      },
      "source": [
        "\n",
        "def linear_activation_forward(A_prev, W, b, activation):\n",
        "    if activation == \"sigmoid\":\n",
        "\n",
        "        Z, linear_cache = linear_forward(A_prev, W, b)\n",
        "        A, activation_cache = sigmoid(Z)\n",
        "\n",
        "    elif activation == \"relu\":\n",
        "\n",
        "        Z, linear_cache = linear_forward(A_prev, W, b)\n",
        "        A, activation_cache = relu(Z)\n",
        "    else:\n",
        "        pass\n",
        "\n",
        "    cache = (linear_cache, activation_cache)\n",
        "\n",
        "    return A, cache\n"
      ],
      "execution_count": null,
      "outputs": []
    },
    {
      "cell_type": "code",
      "metadata": {
        "id": "V1pLCg9N0G56",
        "colab_type": "code",
        "colab": {}
      },
      "source": [
        "\n",
        "def L_model_forward(X, parameters):\n",
        "    caches = []\n",
        "    A = X\n",
        "    L = len(parameters) // 2\n",
        "\n",
        "    for l in range(1, L):\n",
        "        A_prev = A\n",
        "        A, cache = linear_activation_forward(A_prev, parameters[\"W\" + str(l)], parameters[\"b\" + str(l)],\n",
        "                                             activation=\"relu\")\n",
        "        caches.append(cache)\n",
        "\n",
        "    AL, cache = linear_activation_forward(A, parameters[\"W\" + str(L)], parameters[\"b\" + str(L)], activation=\"sigmoid\")\n",
        "    caches.append(cache)\n",
        "\n",
        "    \n",
        "    return AL, caches\n",
        "\n"
      ],
      "execution_count": null,
      "outputs": []
    },
    {
      "cell_type": "code",
      "metadata": {
        "id": "McpX80VS0LPD",
        "colab_type": "code",
        "colab": {}
      },
      "source": [
        "def compute_cost(AL, Y):  # cost computataion\n",
        "    m = Y.shape[1]\n",
        "\n",
        "    cost = (-1 / m) * np.sum(Y * np.log(AL) + (1 - Y) * np.log(1 - AL))\n",
        "\n",
        "    cost = np.squeeze(cost)\n",
        "   \n",
        "\n",
        "    return cost\n"
      ],
      "execution_count": null,
      "outputs": []
    },
    {
      "cell_type": "code",
      "metadata": {
        "id": "_L-8tch70OuM",
        "colab_type": "code",
        "colab": {}
      },
      "source": [
        "\n",
        "def linear_backward(dZ, cache):\n",
        "    A_prev, W, b = cache\n",
        "    m = A_prev.shape[1]\n",
        "\n",
        "    dW = np.dot(dZ, A_prev.T) / m\n",
        "    db = np.sum(dZ, axis=1, keepdims=True) / m\n",
        "    dA_prev = np.dot(W.T, dZ)\n",
        "\n",
        "   \n",
        "\n",
        "    return dA_prev, dW, db\n"
      ],
      "execution_count": null,
      "outputs": []
    },
    {
      "cell_type": "code",
      "metadata": {
        "id": "aNvcflIs0R7J",
        "colab_type": "code",
        "colab": {}
      },
      "source": [
        "\n",
        "def linear_activation_backward(dA, cache, activation):\n",
        "    linear_cache, activation_cache = cache\n",
        "\n",
        "    if activation == \"relu\":\n",
        "        dZ = relu_backward(dA, activation_cache)\n",
        "        dA_prev, dW, db = linear_backward(dZ, linear_cache)\n",
        "\n",
        "    elif activation == \"sigmoid\":\n",
        "        dZ = sigmoid_backward(dA, activation_cache)\n",
        "        dA_prev, dW, db = linear_backward(dZ, linear_cache)\n",
        "\n",
        "    return dA_prev, dW, db\n",
        "\n"
      ],
      "execution_count": null,
      "outputs": []
    },
    {
      "cell_type": "code",
      "metadata": {
        "id": "fVm6pxiw0XD9",
        "colab_type": "code",
        "colab": {}
      },
      "source": [
        "\n",
        "def backward(AL, Y, caches):\n",
        "    grads = {}\n",
        "    L = len(caches)\n",
        "\n",
        "    m = AL.shape[1]\n",
        "    Y = Y.reshape(AL.shape)\n",
        "\n",
        "    dAL = - (np.divide(Y, AL) - np.divide(1 - Y, 1 - AL))\n",
        "\n",
        "    current_cache = caches[L - 1]\n",
        "    grads[\"dA\" + str(L - 1)], grads[\"dW\" + str(L)], grads[\"db\" + str(L)] = linear_activation_backward(dAL,\n",
        "                                                                                                      current_cache,\n",
        "                                                                                                      activation=\"sigmoid\")\n",
        "\n",
        "    for l in reversed(range(L - 1)):\n",
        "        current_cache = caches[l]\n",
        "        dA_prev_temp, dW_temp, db_temp = linear_activation_backward(grads[\"dA\" + str(l + 1)], current_cache,\n",
        "                                                                    activation=\"relu\")\n",
        "        grads[\"dA\" + str(l)] = dA_prev_temp\n",
        "        grads[\"dW\" + str(l + 1)] = dW_temp\n",
        "        grads[\"db\" + str(l + 1)] = db_temp\n",
        "\n",
        "    return grads\n"
      ],
      "execution_count": null,
      "outputs": []
    },
    {
      "cell_type": "code",
      "metadata": {
        "id": "CSU6C97v0bZM",
        "colab_type": "code",
        "colab": {}
      },
      "source": [
        "\n",
        "def update_parameters(parameters, grads, learning_rate):  # update parameters\n",
        "    L = len(parameters) // 2\n",
        "\n",
        "    for l in range(L):\n",
        "        parameters[\"W\" + str(l + 1)] = parameters[\"W\" + str(l + 1)] - learning_rate * grads[\"dW\" + str(l + 1)]\n",
        "        parameters[\"b\" + str(l + 1)] = parameters[\"b\" + str(l + 1)] - learning_rate * grads[\"db\" + str(l + 1)]\n",
        "    return parameters\n"
      ],
      "execution_count": null,
      "outputs": []
    },
    {
      "cell_type": "code",
      "metadata": {
        "id": "z91_WzBT0f0M",
        "colab_type": "code",
        "colab": {}
      },
      "source": [
        "\n",
        "def predict(X, y, parameters):\n",
        "    m = X.shape[1]\n",
        "    n = len(parameters) // 2\n",
        "    new = np.zeros((1, m))\n",
        "\n",
        "    Y_pred, caches = L_model_forward(X, parameters)\n",
        "\n",
        "    for i in range(0, Y_pred.shape[1]):\n",
        "        if Y_pred[0, i] > 0.5:\n",
        "            new[0, i] = 1\n",
        "        else:\n",
        "            new[0, i] = 0\n",
        "\n",
        "    return new"
      ],
      "execution_count": null,
      "outputs": []
    },
    {
      "cell_type": "code",
      "metadata": {
        "id": "SMIwe7GA0ja4",
        "colab_type": "code",
        "colab": {}
      },
      "source": [
        "\n",
        "\n",
        "layers = [12288,500,100,20,5,1]\n",
        "\n",
        "\n",
        "def model(X, Y, x_valid,y_valid, layers_dims, learning_rate, num_iterations,\n",
        "          print_cost=False):\n",
        "    costs = []\n",
        "    validation_costs=[]\n",
        "    parameters = initialize(layers_dims)\n",
        "\n",
        "    for i in range(0, num_iterations):\n",
        "\n",
        "        AL, caches = L_model_forward(X, parameters)\n",
        "        AL_val ,Al_caches=L_model_forward(x_valid,parameters)\n",
        "\n",
        "        cost = compute_cost(AL, Y)\n",
        "        valid_cost=compute_cost(AL_val,y_valid)\n",
        "\n",
        "        grads = backward(AL, Y, caches)\n",
        "\n",
        "        parameters = update_parameters(parameters, grads, learning_rate)\n",
        "\n",
        "        if print_cost and i % 100 == 0:\n",
        "            print(\"Training cost after iteration %i: %f\" % (i, cost))\n",
        "            print(\"Validation cost after iteration %i:%f\"%(i,valid_cost))\n",
        "            valid_predict=predict(x_valid,y_valid,parameters)\n",
        "\n",
        "        if print_cost and i % 100 == 0:\n",
        "            costs.append(cost)\n",
        "            validation_costs.append(valid_cost)\n",
        "\n",
        "    plt.plot(np.squeeze(costs))\n",
        "    plt.plot(np.squeeze(validation_costs))\n",
        "    plt.ylabel('Cost')\n",
        "    plt.xlabel('Iterations ')\n",
        "    plt.title(\"Training set/Validation Set \")\n",
        "    plt.show()\n",
        "    # print(\"Test Accuracy : {} %\".format(100 - np.mean(np.abs(valid_pred - Y_val)) * 100))\n",
        "\n",
        "\n",
        "    \n",
        "\n",
        "\n",
        "    return parameters\n",
        "\n",
        "\n",
        "\n",
        "\n",
        "\n",
        "\n",
        "\n",
        "\n"
      ],
      "execution_count": 53,
      "outputs": []
    },
    {
      "cell_type": "code",
      "metadata": {
        "id": "VIRDZrAu0oiq",
        "colab_type": "code",
        "colab": {
          "base_uri": "https://localhost:8080/",
          "height": 525
        },
        "outputId": "1b92aaed-e1f2-46c6-cc3c-f823f7f74d3a"
      },
      "source": [
        "# parameter=model1(X_Val,Y_Val,layers,learning_rate=0.0085,num_iterations=1000,print_cost=True)\n",
        "parameters= model(X_train, Y_train,X_Val,Y_Val, layers, learning_rate=0.0085, num_iterations=500, print_cost=True)\n",
        "#parameter=model(X_Val,Y_Val,layers,learning_rate=0.0085,num_iterations=1000,print_cost=True)\n",
        "test_pred = predict(X_test, Y_test, parameters)\n",
        "\n",
        "train_pred = predict(X_train, Y_train, parameters)\n",
        "\n",
        "\n",
        "\n",
        "\n",
        "\n",
        "print(\"Train Accuracy : {} %\".format(100 - np.mean(np.abs(train_pred - Y_train)) * 100))\n",
        "print(\"Test Accuracy : {} %\".format(100 - np.mean(np.abs(test_pred - Y_test)) * 100))\n",
        "\n",
        "\n",
        "\n",
        "val_pred =predict(X_Val,Y_Val,parameters)\n",
        "print(\"Validation Accuracy  : {} %\".format(100 - np.mean(np.abs(val_pred - Y_Val)) * 100))\n",
        "\n",
        "\n",
        "\n",
        "\n",
        "\n",
        "\n"
      ],
      "execution_count": 55,
      "outputs": [
        {
          "output_type": "stream",
          "text": [
            "Training cost after iteration 0: 0.720144\n",
            "Validation cost after iteration 0:0.702210\n",
            "Training cost after iteration 100: 0.373954\n",
            "Validation cost after iteration 100:0.422477\n",
            "Training cost after iteration 200: 0.255435\n",
            "Validation cost after iteration 200:0.294487\n",
            "Training cost after iteration 300: 0.177976\n",
            "Validation cost after iteration 300:0.224294\n",
            "Training cost after iteration 400: 0.128560\n",
            "Validation cost after iteration 400:0.191758\n"
          ],
          "name": "stdout"
        },
        {
          "output_type": "display_data",
          "data": {
            "image/png": "[encoded data removed]",
            "text/plain": [
              "<Figure size 432x288 with 1 Axes>"
            ]
          },
          "metadata": {
            "tags": [],
            "needs_background": "light"
          }
        },
        {
          "output_type": "stream",
          "text": [
            "Train Accuracy : 97.64808362369338 %\n",
            "Test Accuracy : 93.75 %\n",
            "Validation Accuracy  : 93.0 %\n"
          ],
          "name": "stdout"
        }
      ]
    },
    {
      "cell_type": "markdown",
      "metadata": {
        "id": "mzAWD6EKOwhe",
        "colab_type": "text"
      },
      "source": [
        "\n",
        "**CHECKING OF MODEL BY GIVING OWN IMAGE**\n",
        "\n",
        "\n"
      ]
    },
    {
      "cell_type": "code",
      "metadata": {
        "id": "sYFpfQ430szf",
        "colab_type": "code",
        "colab": {
          "base_uri": "https://localhost:8080/",
          "height": 285
        },
        "outputId": "1c1ca518-3e63-4f34-cd9f-64b83c42de82"
      },
      "source": [
        "\n",
        "\n",
        "\n",
        "\n",
        "x=\"drive/My Drive/IMG_20200811_154426.jpg\"\n",
        "img=cv2.imread(x)\n",
        "img=cv2.resize(img,(64,64))\n",
        "plt.imshow(img)\n",
        "plt.show()\n",
        "\n",
        "c=np.array(img)\n",
        "c=c.reshape(64*64*3,1)\n",
        "print(c.shape)\n",
        "\n",
        "\n",
        "\n",
        "\n"
      ],
      "execution_count": 57,
      "outputs": [
        {
          "output_type": "display_data",
          "data": {
            "image/png": "[encoded data removed]",
            "text/plain": [
              "<Figure size 432x288 with 1 Axes>"
            ]
          },
          "metadata": {
            "tags": [],
            "needs_background": "light"
          }
        },
        {
          "output_type": "stream",
          "text": [
            "(12288, 1)\n"
          ],
          "name": "stdout"
        }
      ]
    },
    {
      "cell_type": "code",
      "metadata": {
        "id": "SA2QHhZoJ8Iq",
        "colab_type": "code",
        "colab": {
          "base_uri": "https://localhost:8080/",
          "height": 34
        },
        "outputId": "ba87f79b-d551-421a-c89d-927892b47330"
      },
      "source": [
        "al,caches=L_model_forward(c, parameters)\n",
        "\n",
        "if al>0.5:\n",
        "  print(\"IT IS A NOTE\")\n",
        "else:\n",
        "  print(\"IT IS A MEME\")  "
      ],
      "execution_count": 58,
      "outputs": [
        {
          "output_type": "stream",
          "text": [
            "IT IS A NOTE\n"
          ],
          "name": "stdout"
        }
      ]
    },
    {
      "cell_type": "code",
      "metadata": {
        "id": "r0qVeZ6DMj6q",
        "colab_type": "code",
        "colab": {}
      },
      "source": [
        ""
      ],
      "execution_count": 58,
      "outputs": []
    }
  ]
}